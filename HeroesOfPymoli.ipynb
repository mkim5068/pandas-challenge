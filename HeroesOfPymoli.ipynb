{
 "cells": [
  {
   "cell_type": "markdown",
   "metadata": {},
   "source": [
    "### Note\n",
    "* Instructions have been included for each segment. You do not have to follow them exactly, but they are included to help you think through the steps."
   ]
  },
  {
   "cell_type": "code",
   "execution_count": 2,
   "metadata": {},
   "outputs": [],
   "source": [
    "# Dependencies and Setup\n",
    "import pandas as pd\n",
    "\n",
    "# File to Load (Remember to Change These)\n",
    "file_to_load = \"Resources/purchase_data.csv\"\n",
    "\n",
    "# Read Purchasing File and store into Pandas data frame\n",
    "purchase_data = pd.read_csv(file_to_load)"
   ]
  },
  {
   "cell_type": "markdown",
   "metadata": {},
   "source": [
    "## Player Count"
   ]
  },
  {
   "cell_type": "markdown",
   "metadata": {},
   "source": [
    "* Display the total number of players\n"
   ]
  },
  {
   "cell_type": "code",
   "execution_count": 13,
   "metadata": {},
   "outputs": [
    {
     "data": {
      "text/html": [
       "<div>\n",
       "<style scoped>\n",
       "    .dataframe tbody tr th:only-of-type {\n",
       "        vertical-align: middle;\n",
       "    }\n",
       "\n",
       "    .dataframe tbody tr th {\n",
       "        vertical-align: top;\n",
       "    }\n",
       "\n",
       "    .dataframe thead th {\n",
       "        text-align: right;\n",
       "    }\n",
       "</style>\n",
       "<table border=\"1\" class=\"dataframe\">\n",
       "  <thead>\n",
       "    <tr style=\"text-align: right;\">\n",
       "      <th></th>\n",
       "      <th>Total Platers</th>\n",
       "    </tr>\n",
       "  </thead>\n",
       "  <tbody>\n",
       "    <tr>\n",
       "      <td>0</td>\n",
       "      <td>576</td>\n",
       "    </tr>\n",
       "  </tbody>\n",
       "</table>\n",
       "</div>"
      ],
      "text/plain": [
       "   Total Platers\n",
       "0            576"
      ]
     },
     "execution_count": 13,
     "metadata": {},
     "output_type": "execute_result"
    }
   ],
   "source": [
    "total_players = len(purchase_data[\"SN\"].value_counts())\n",
    "total_player_count = pd.DataFrame({\"Total Platers\": [total_players]})\n",
    "total_player_count"
   ]
  },
  {
   "cell_type": "markdown",
   "metadata": {},
   "source": [
    "## Purchasing Analysis (Total)"
   ]
  },
  {
   "cell_type": "markdown",
   "metadata": {},
   "source": [
    "* Run basic calculations to obtain number of unique items, average price, etc.\n",
    "\n",
    "\n",
    "* Create a summary data frame to hold the results\n",
    "\n",
    "\n",
    "* Optional: give the displayed data cleaner formatting\n",
    "\n",
    "\n",
    "* Display the summary data frame\n"
   ]
  },
  {
   "cell_type": "code",
   "execution_count": 31,
   "metadata": {
    "scrolled": true
   },
   "outputs": [
    {
     "data": {
      "text/html": [
       "<style  type=\"text/css\" >\n",
       "</style><table id=\"T_2c52d206_68c2_11ea_9b40_c4b301d2d9dd\" ><thead>    <tr>        <th class=\"blank level0\" ></th>        <th class=\"col_heading level0 col0\" >Number of Unique Items</th>        <th class=\"col_heading level0 col1\" >Average Price</th>        <th class=\"col_heading level0 col2\" >Number of Purchases</th>        <th class=\"col_heading level0 col3\" >Total Revenue</th>    </tr></thead><tbody>\n",
       "                <tr>\n",
       "                        <th id=\"T_2c52d206_68c2_11ea_9b40_c4b301d2d9ddlevel0_row0\" class=\"row_heading level0 row0\" >0</th>\n",
       "                        <td id=\"T_2c52d206_68c2_11ea_9b40_c4b301d2d9ddrow0_col0\" class=\"data row0 col0\" >183</td>\n",
       "                        <td id=\"T_2c52d206_68c2_11ea_9b40_c4b301d2d9ddrow0_col1\" class=\"data row0 col1\" >$3.05</td>\n",
       "                        <td id=\"T_2c52d206_68c2_11ea_9b40_c4b301d2d9ddrow0_col2\" class=\"data row0 col2\" >780</td>\n",
       "                        <td id=\"T_2c52d206_68c2_11ea_9b40_c4b301d2d9ddrow0_col3\" class=\"data row0 col3\" >$2,379.77</td>\n",
       "            </tr>\n",
       "    </tbody></table>"
      ],
      "text/plain": [
       "<pandas.io.formats.style.Styler at 0x11e265290>"
      ]
     },
     "execution_count": 31,
     "metadata": {},
     "output_type": "execute_result"
    }
   ],
   "source": [
    "# Calculations to obtain variables\n",
    "number_of_unique_items = len(purchase_data[\"Item ID\"].unique())\n",
    "average_price = purchase_data[\"Price\"].sum() / len(purchase_data[\"Price\"])\n",
    "number_of_purchases = purchase_data[\"Purchase ID\"].count()\n",
    "total_revenue = purchase_data[\"Price\"].sum()\n",
    "\n",
    "# Creation of data frame using variables\n",
    "summary_df = pd.DataFrame({\"Number of Unique Items\": [number_of_unique_items], \"Average Price\": [average_price],\n",
    "                           \"Number of Purchases\": [number_of_purchases], \"Total Revenue\": [total_revenue]})\n",
    "summary_df\n",
    "\n",
    "# Format with style\n",
    "summary_df.style.format({'Average Price':\"${:,.2f}\",\n",
    "                         'Total Revenue': '${:,.2f}'})"
   ]
  },
  {
   "cell_type": "markdown",
   "metadata": {},
   "source": [
    "## Gender Demographics"
   ]
  },
  {
   "cell_type": "markdown",
   "metadata": {},
   "source": [
    "* Percentage and Count of Male Players\n",
    "\n",
    "\n",
    "* Percentage and Count of Female Players\n",
    "\n",
    "\n",
    "* Percentage and Count of Other / Non-Disclosed\n",
    "\n",
    "\n"
   ]
  },
  {
   "cell_type": "code",
   "execution_count": 186,
   "metadata": {},
   "outputs": [
    {
     "data": {
      "text/html": [
       "<style  type=\"text/css\" >\n",
       "</style><table id=\"T_fa0a562c_68f1_11ea_9b40_c4b301d2d9dd\" ><thead>    <tr>        <th class=\"blank level0\" ></th>        <th class=\"col_heading level0 col0\" >Total Count</th>        <th class=\"col_heading level0 col1\" >Percentage of Players</th>    </tr></thead><tbody>\n",
       "                <tr>\n",
       "                        <th id=\"T_fa0a562c_68f1_11ea_9b40_c4b301d2d9ddlevel0_row0\" class=\"row_heading level0 row0\" >Female</th>\n",
       "                        <td id=\"T_fa0a562c_68f1_11ea_9b40_c4b301d2d9ddrow0_col0\" class=\"data row0 col0\" >81</td>\n",
       "                        <td id=\"T_fa0a562c_68f1_11ea_9b40_c4b301d2d9ddrow0_col1\" class=\"data row0 col1\" >14.06%</td>\n",
       "            </tr>\n",
       "            <tr>\n",
       "                        <th id=\"T_fa0a562c_68f1_11ea_9b40_c4b301d2d9ddlevel0_row1\" class=\"row_heading level0 row1\" >Male</th>\n",
       "                        <td id=\"T_fa0a562c_68f1_11ea_9b40_c4b301d2d9ddrow1_col0\" class=\"data row1 col0\" >484</td>\n",
       "                        <td id=\"T_fa0a562c_68f1_11ea_9b40_c4b301d2d9ddrow1_col1\" class=\"data row1 col1\" >84.03%</td>\n",
       "            </tr>\n",
       "            <tr>\n",
       "                        <th id=\"T_fa0a562c_68f1_11ea_9b40_c4b301d2d9ddlevel0_row2\" class=\"row_heading level0 row2\" >Other / Non-Disclosed</th>\n",
       "                        <td id=\"T_fa0a562c_68f1_11ea_9b40_c4b301d2d9ddrow2_col0\" class=\"data row2 col0\" >11</td>\n",
       "                        <td id=\"T_fa0a562c_68f1_11ea_9b40_c4b301d2d9ddrow2_col1\" class=\"data row2 col1\" >1.91%</td>\n",
       "            </tr>\n",
       "    </tbody></table>"
      ],
      "text/plain": [
       "<pandas.io.formats.style.Styler at 0x11e4816d0>"
      ]
     },
     "execution_count": 186,
     "metadata": {},
     "output_type": "execute_result"
    }
   ],
   "source": [
    "gender_grouped = purchase_data.groupby(\"Gender\")\n",
    "total_gender_count = gender_grouped.nunique()[\"SN\"]\n",
    "percentage_player = (total_gender_count / total_players) * 100\n",
    "\n",
    "gender_demo_df = pd.DataFrame({\"Total Count\": total_gender_count,\n",
    "                               \"Percentage of Players\" : percentage_player})\n",
    "                              \n",
    "gender_demo_df.index.name = None\n",
    "gender_demo_df.sort_values([\"Total Count\"], ascending = False)\n",
    "gender_demo_df.style.format({\"Percentage of Players\": \"{:.2f}%\"})\n",
    "\n"
   ]
  },
  {
   "cell_type": "markdown",
   "metadata": {},
   "source": [
    "\n",
    "## Purchasing Analysis (Gender)"
   ]
  },
  {
   "cell_type": "markdown",
   "metadata": {},
   "source": [
    "* Run basic calculations to obtain purchase count, avg. purchase price, avg. purchase total per person etc. by gender\n",
    "\n",
    "\n",
    "\n",
    "\n",
    "* Create a summary data frame to hold the results\n",
    "\n",
    "\n",
    "* Optional: give the displayed data cleaner formatting\n",
    "\n",
    "\n",
    "* Display the summary data frame"
   ]
  },
  {
   "cell_type": "code",
   "execution_count": 206,
   "metadata": {},
   "outputs": [
    {
     "data": {
      "text/html": [
       "<style  type=\"text/css\" >\n",
       "</style><table id=\"T_8e5205c8_6988_11ea_9b40_c4b301d2d9dd\" ><thead>    <tr>        <th class=\"blank level0\" ></th>        <th class=\"col_heading level0 col0\" >Purchase Count</th>        <th class=\"col_heading level0 col1\" >Average Purchase Price</th>        <th class=\"col_heading level0 col2\" >Total Purchase Value</th>        <th class=\"col_heading level0 col3\" >Avg Total Purchase per Person</th>    </tr></thead><tbody>\n",
       "                <tr>\n",
       "                        <th id=\"T_8e5205c8_6988_11ea_9b40_c4b301d2d9ddlevel0_row0\" class=\"row_heading level0 row0\" >Female</th>\n",
       "                        <td id=\"T_8e5205c8_6988_11ea_9b40_c4b301d2d9ddrow0_col0\" class=\"data row0 col0\" >113</td>\n",
       "                        <td id=\"T_8e5205c8_6988_11ea_9b40_c4b301d2d9ddrow0_col1\" class=\"data row0 col1\" >$3.20</td>\n",
       "                        <td id=\"T_8e5205c8_6988_11ea_9b40_c4b301d2d9ddrow0_col2\" class=\"data row0 col2\" >$361.94</td>\n",
       "                        <td id=\"T_8e5205c8_6988_11ea_9b40_c4b301d2d9ddrow0_col3\" class=\"data row0 col3\" >$4.47</td>\n",
       "            </tr>\n",
       "            <tr>\n",
       "                        <th id=\"T_8e5205c8_6988_11ea_9b40_c4b301d2d9ddlevel0_row1\" class=\"row_heading level0 row1\" >Male</th>\n",
       "                        <td id=\"T_8e5205c8_6988_11ea_9b40_c4b301d2d9ddrow1_col0\" class=\"data row1 col0\" >652</td>\n",
       "                        <td id=\"T_8e5205c8_6988_11ea_9b40_c4b301d2d9ddrow1_col1\" class=\"data row1 col1\" >$3.02</td>\n",
       "                        <td id=\"T_8e5205c8_6988_11ea_9b40_c4b301d2d9ddrow1_col2\" class=\"data row1 col2\" >$1967.64</td>\n",
       "                        <td id=\"T_8e5205c8_6988_11ea_9b40_c4b301d2d9ddrow1_col3\" class=\"data row1 col3\" >$4.07</td>\n",
       "            </tr>\n",
       "            <tr>\n",
       "                        <th id=\"T_8e5205c8_6988_11ea_9b40_c4b301d2d9ddlevel0_row2\" class=\"row_heading level0 row2\" >Other / Non-Disclosed</th>\n",
       "                        <td id=\"T_8e5205c8_6988_11ea_9b40_c4b301d2d9ddrow2_col0\" class=\"data row2 col0\" >15</td>\n",
       "                        <td id=\"T_8e5205c8_6988_11ea_9b40_c4b301d2d9ddrow2_col1\" class=\"data row2 col1\" >$3.35</td>\n",
       "                        <td id=\"T_8e5205c8_6988_11ea_9b40_c4b301d2d9ddrow2_col2\" class=\"data row2 col2\" >$50.19</td>\n",
       "                        <td id=\"T_8e5205c8_6988_11ea_9b40_c4b301d2d9ddrow2_col3\" class=\"data row2 col3\" >$4.56</td>\n",
       "            </tr>\n",
       "    </tbody></table>"
      ],
      "text/plain": [
       "<pandas.io.formats.style.Styler at 0x11e3c6410>"
      ]
     },
     "execution_count": 206,
     "metadata": {},
     "output_type": "execute_result"
    }
   ],
   "source": [
    "purchase_count = gender_grouped[\"Purchase ID\"].count()\n",
    "average_price = gender_grouped[\"Price\"].mean()\n",
    "total_price = gender_grouped[\"Price\"].sum()\n",
    "average_per_person = total_price / total_gender_count\n",
    "\n",
    "purchase_analysis_df = pd.DataFrame({\"Purchase Count\": purchase_count, \n",
    "                                     \"Average Purchase Price\": average_price,\n",
    "                                     \"Total Purchase Value\": total_price, \n",
    "                                     \"Avg Total Purchase per Person\": average_per_person\n",
    "                                    })\n",
    "\n",
    "purchase_analysis_df.style.format({\"Average Purchase Price\": \"${:.2f}\", \n",
    "                                   \"Total Purchase Value\": \"${:.2f}\",\n",
    "                                   \"Avg Total Purchase per Person\": \"${:.2f}\"\n",
    "                                  })"
   ]
  },
  {
   "cell_type": "markdown",
   "metadata": {},
   "source": [
    "## Age Demographics"
   ]
  },
  {
   "cell_type": "markdown",
   "metadata": {},
   "source": [
    "* Establish bins for ages\n",
    "\n",
    "\n",
    "* Categorize the existing players using the age bins. Hint: use pd.cut()\n",
    "\n",
    "\n",
    "* Calculate the numbers and percentages by age group\n",
    "\n",
    "\n",
    "* Create a summary data frame to hold the results\n",
    "\n",
    "\n",
    "* Optional: round the percentage column to two decimal points\n",
    "\n",
    "\n",
    "* Display Age Demographics Table\n"
   ]
  },
  {
   "cell_type": "code",
   "execution_count": 237,
   "metadata": {},
   "outputs": [
    {
     "data": {
      "text/html": [
       "<style  type=\"text/css\" >\n",
       "</style><table id=\"T_96377074_69b6_11ea_9b40_c4b301d2d9dd\" ><thead>    <tr>        <th class=\"blank level0\" ></th>        <th class=\"col_heading level0 col0\" >Total Count</th>        <th class=\"col_heading level0 col1\" >Percentage of Players</th>    </tr>    <tr>        <th class=\"index_name level0\" >Age Ranges</th>        <th class=\"blank\" ></th>        <th class=\"blank\" ></th>    </tr></thead><tbody>\n",
       "                <tr>\n",
       "                        <th id=\"T_96377074_69b6_11ea_9b40_c4b301d2d9ddlevel0_row0\" class=\"row_heading level0 row0\" ><10</th>\n",
       "                        <td id=\"T_96377074_69b6_11ea_9b40_c4b301d2d9ddrow0_col0\" class=\"data row0 col0\" >17</td>\n",
       "                        <td id=\"T_96377074_69b6_11ea_9b40_c4b301d2d9ddrow0_col1\" class=\"data row0 col1\" >2.95%</td>\n",
       "            </tr>\n",
       "            <tr>\n",
       "                        <th id=\"T_96377074_69b6_11ea_9b40_c4b301d2d9ddlevel0_row1\" class=\"row_heading level0 row1\" >10-14</th>\n",
       "                        <td id=\"T_96377074_69b6_11ea_9b40_c4b301d2d9ddrow1_col0\" class=\"data row1 col0\" >22</td>\n",
       "                        <td id=\"T_96377074_69b6_11ea_9b40_c4b301d2d9ddrow1_col1\" class=\"data row1 col1\" >3.82%</td>\n",
       "            </tr>\n",
       "            <tr>\n",
       "                        <th id=\"T_96377074_69b6_11ea_9b40_c4b301d2d9ddlevel0_row2\" class=\"row_heading level0 row2\" >15-19</th>\n",
       "                        <td id=\"T_96377074_69b6_11ea_9b40_c4b301d2d9ddrow2_col0\" class=\"data row2 col0\" >107</td>\n",
       "                        <td id=\"T_96377074_69b6_11ea_9b40_c4b301d2d9ddrow2_col1\" class=\"data row2 col1\" >18.58%</td>\n",
       "            </tr>\n",
       "            <tr>\n",
       "                        <th id=\"T_96377074_69b6_11ea_9b40_c4b301d2d9ddlevel0_row3\" class=\"row_heading level0 row3\" >20-24</th>\n",
       "                        <td id=\"T_96377074_69b6_11ea_9b40_c4b301d2d9ddrow3_col0\" class=\"data row3 col0\" >258</td>\n",
       "                        <td id=\"T_96377074_69b6_11ea_9b40_c4b301d2d9ddrow3_col1\" class=\"data row3 col1\" >44.79%</td>\n",
       "            </tr>\n",
       "            <tr>\n",
       "                        <th id=\"T_96377074_69b6_11ea_9b40_c4b301d2d9ddlevel0_row4\" class=\"row_heading level0 row4\" >25-29</th>\n",
       "                        <td id=\"T_96377074_69b6_11ea_9b40_c4b301d2d9ddrow4_col0\" class=\"data row4 col0\" >77</td>\n",
       "                        <td id=\"T_96377074_69b6_11ea_9b40_c4b301d2d9ddrow4_col1\" class=\"data row4 col1\" >13.37%</td>\n",
       "            </tr>\n",
       "            <tr>\n",
       "                        <th id=\"T_96377074_69b6_11ea_9b40_c4b301d2d9ddlevel0_row5\" class=\"row_heading level0 row5\" >30-34</th>\n",
       "                        <td id=\"T_96377074_69b6_11ea_9b40_c4b301d2d9ddrow5_col0\" class=\"data row5 col0\" >52</td>\n",
       "                        <td id=\"T_96377074_69b6_11ea_9b40_c4b301d2d9ddrow5_col1\" class=\"data row5 col1\" >9.03%</td>\n",
       "            </tr>\n",
       "            <tr>\n",
       "                        <th id=\"T_96377074_69b6_11ea_9b40_c4b301d2d9ddlevel0_row6\" class=\"row_heading level0 row6\" >35-39</th>\n",
       "                        <td id=\"T_96377074_69b6_11ea_9b40_c4b301d2d9ddrow6_col0\" class=\"data row6 col0\" >31</td>\n",
       "                        <td id=\"T_96377074_69b6_11ea_9b40_c4b301d2d9ddrow6_col1\" class=\"data row6 col1\" >5.38%</td>\n",
       "            </tr>\n",
       "            <tr>\n",
       "                        <th id=\"T_96377074_69b6_11ea_9b40_c4b301d2d9ddlevel0_row7\" class=\"row_heading level0 row7\" >40+</th>\n",
       "                        <td id=\"T_96377074_69b6_11ea_9b40_c4b301d2d9ddrow7_col0\" class=\"data row7 col0\" >12</td>\n",
       "                        <td id=\"T_96377074_69b6_11ea_9b40_c4b301d2d9ddrow7_col1\" class=\"data row7 col1\" >2.08%</td>\n",
       "            </tr>\n",
       "    </tbody></table>"
      ],
      "text/plain": [
       "<pandas.io.formats.style.Styler at 0x11e4da0d0>"
      ]
     },
     "execution_count": 237,
     "metadata": {},
     "output_type": "execute_result"
    }
   ],
   "source": [
    "bins = [0, 9.9, 14.9, 19.9, 24.9, 29.9, 34.9, 39.9, 1000]\n",
    "group_names = [\"<10\", \"10-14\", \"15-19\", \"20-24\", \"25-29\", \"30-34\", \"35-39\", \"40+\"]\n",
    "\n",
    "purchase_data[\"Age Ranges\"] = pd.cut(purchase_data[\"Age\"], bins, labels= group_names, include_lowest = True)\n",
    "age_grouped = purchase_data.groupby(\"Age Ranges\")\n",
    "total_count_age = age_grouped.nunique()[\"SN\"]\n",
    "percentage_age = (total_count_age / total_players) * 100 \n",
    "percentage_age\n",
    "\n",
    "age_demo_df = pd.DataFrame({\"Total Count\": total_count_age, \n",
    "                            \"Percentage of Players\": percentage_age})\n",
    "\n",
    "age_demo_df.style.format({\"Percentage of Players\": \"{:.2f}%\"})"
   ]
  },
  {
   "cell_type": "markdown",
   "metadata": {},
   "source": [
    "## Purchasing Analysis (Age)"
   ]
  },
  {
   "cell_type": "markdown",
   "metadata": {},
   "source": [
    "* Bin the purchase_data data frame by age\n",
    "\n",
    "\n",
    "* Run basic calculations to obtain purchase count, avg. purchase price, avg. purchase total per person etc. in the table below\n",
    "\n",
    "\n",
    "* Create a summary data frame to hold the results\n",
    "\n",
    "\n",
    "* Optional: give the displayed data cleaner formatting\n",
    "\n",
    "\n",
    "* Display the summary data frame"
   ]
  },
  {
   "cell_type": "code",
   "execution_count": 249,
   "metadata": {},
   "outputs": [
    {
     "data": {
      "text/html": [
       "<style  type=\"text/css\" >\n",
       "</style><table id=\"T_7c8fb0e8_69b9_11ea_9b40_c4b301d2d9dd\" ><thead>    <tr>        <th class=\"blank level0\" ></th>        <th class=\"col_heading level0 col0\" >Purchase Count</th>        <th class=\"col_heading level0 col1\" >Average Purchase Price</th>        <th class=\"col_heading level0 col2\" >Total Purchase Value</th>        <th class=\"col_heading level0 col3\" >Avg Total Purchase per Person</th>    </tr>    <tr>        <th class=\"index_name level0\" >Age Ranges</th>        <th class=\"blank\" ></th>        <th class=\"blank\" ></th>        <th class=\"blank\" ></th>        <th class=\"blank\" ></th>    </tr></thead><tbody>\n",
       "                <tr>\n",
       "                        <th id=\"T_7c8fb0e8_69b9_11ea_9b40_c4b301d2d9ddlevel0_row0\" class=\"row_heading level0 row0\" ><10</th>\n",
       "                        <td id=\"T_7c8fb0e8_69b9_11ea_9b40_c4b301d2d9ddrow0_col0\" class=\"data row0 col0\" >23</td>\n",
       "                        <td id=\"T_7c8fb0e8_69b9_11ea_9b40_c4b301d2d9ddrow0_col1\" class=\"data row0 col1\" >$3.35</td>\n",
       "                        <td id=\"T_7c8fb0e8_69b9_11ea_9b40_c4b301d2d9ddrow0_col2\" class=\"data row0 col2\" >$77.13</td>\n",
       "                        <td id=\"T_7c8fb0e8_69b9_11ea_9b40_c4b301d2d9ddrow0_col3\" class=\"data row0 col3\" >$4.54</td>\n",
       "            </tr>\n",
       "            <tr>\n",
       "                        <th id=\"T_7c8fb0e8_69b9_11ea_9b40_c4b301d2d9ddlevel0_row1\" class=\"row_heading level0 row1\" >10-14</th>\n",
       "                        <td id=\"T_7c8fb0e8_69b9_11ea_9b40_c4b301d2d9ddrow1_col0\" class=\"data row1 col0\" >28</td>\n",
       "                        <td id=\"T_7c8fb0e8_69b9_11ea_9b40_c4b301d2d9ddrow1_col1\" class=\"data row1 col1\" >$2.96</td>\n",
       "                        <td id=\"T_7c8fb0e8_69b9_11ea_9b40_c4b301d2d9ddrow1_col2\" class=\"data row1 col2\" >$82.78</td>\n",
       "                        <td id=\"T_7c8fb0e8_69b9_11ea_9b40_c4b301d2d9ddrow1_col3\" class=\"data row1 col3\" >$3.76</td>\n",
       "            </tr>\n",
       "            <tr>\n",
       "                        <th id=\"T_7c8fb0e8_69b9_11ea_9b40_c4b301d2d9ddlevel0_row2\" class=\"row_heading level0 row2\" >15-19</th>\n",
       "                        <td id=\"T_7c8fb0e8_69b9_11ea_9b40_c4b301d2d9ddrow2_col0\" class=\"data row2 col0\" >136</td>\n",
       "                        <td id=\"T_7c8fb0e8_69b9_11ea_9b40_c4b301d2d9ddrow2_col1\" class=\"data row2 col1\" >$3.04</td>\n",
       "                        <td id=\"T_7c8fb0e8_69b9_11ea_9b40_c4b301d2d9ddrow2_col2\" class=\"data row2 col2\" >$412.89</td>\n",
       "                        <td id=\"T_7c8fb0e8_69b9_11ea_9b40_c4b301d2d9ddrow2_col3\" class=\"data row2 col3\" >$3.86</td>\n",
       "            </tr>\n",
       "            <tr>\n",
       "                        <th id=\"T_7c8fb0e8_69b9_11ea_9b40_c4b301d2d9ddlevel0_row3\" class=\"row_heading level0 row3\" >20-24</th>\n",
       "                        <td id=\"T_7c8fb0e8_69b9_11ea_9b40_c4b301d2d9ddrow3_col0\" class=\"data row3 col0\" >365</td>\n",
       "                        <td id=\"T_7c8fb0e8_69b9_11ea_9b40_c4b301d2d9ddrow3_col1\" class=\"data row3 col1\" >$3.05</td>\n",
       "                        <td id=\"T_7c8fb0e8_69b9_11ea_9b40_c4b301d2d9ddrow3_col2\" class=\"data row3 col2\" >$1114.06</td>\n",
       "                        <td id=\"T_7c8fb0e8_69b9_11ea_9b40_c4b301d2d9ddrow3_col3\" class=\"data row3 col3\" >$4.32</td>\n",
       "            </tr>\n",
       "            <tr>\n",
       "                        <th id=\"T_7c8fb0e8_69b9_11ea_9b40_c4b301d2d9ddlevel0_row4\" class=\"row_heading level0 row4\" >25-29</th>\n",
       "                        <td id=\"T_7c8fb0e8_69b9_11ea_9b40_c4b301d2d9ddrow4_col0\" class=\"data row4 col0\" >101</td>\n",
       "                        <td id=\"T_7c8fb0e8_69b9_11ea_9b40_c4b301d2d9ddrow4_col1\" class=\"data row4 col1\" >$2.90</td>\n",
       "                        <td id=\"T_7c8fb0e8_69b9_11ea_9b40_c4b301d2d9ddrow4_col2\" class=\"data row4 col2\" >$293.00</td>\n",
       "                        <td id=\"T_7c8fb0e8_69b9_11ea_9b40_c4b301d2d9ddrow4_col3\" class=\"data row4 col3\" >$3.81</td>\n",
       "            </tr>\n",
       "            <tr>\n",
       "                        <th id=\"T_7c8fb0e8_69b9_11ea_9b40_c4b301d2d9ddlevel0_row5\" class=\"row_heading level0 row5\" >30-34</th>\n",
       "                        <td id=\"T_7c8fb0e8_69b9_11ea_9b40_c4b301d2d9ddrow5_col0\" class=\"data row5 col0\" >73</td>\n",
       "                        <td id=\"T_7c8fb0e8_69b9_11ea_9b40_c4b301d2d9ddrow5_col1\" class=\"data row5 col1\" >$2.93</td>\n",
       "                        <td id=\"T_7c8fb0e8_69b9_11ea_9b40_c4b301d2d9ddrow5_col2\" class=\"data row5 col2\" >$214.00</td>\n",
       "                        <td id=\"T_7c8fb0e8_69b9_11ea_9b40_c4b301d2d9ddrow5_col3\" class=\"data row5 col3\" >$4.12</td>\n",
       "            </tr>\n",
       "            <tr>\n",
       "                        <th id=\"T_7c8fb0e8_69b9_11ea_9b40_c4b301d2d9ddlevel0_row6\" class=\"row_heading level0 row6\" >35-39</th>\n",
       "                        <td id=\"T_7c8fb0e8_69b9_11ea_9b40_c4b301d2d9ddrow6_col0\" class=\"data row6 col0\" >41</td>\n",
       "                        <td id=\"T_7c8fb0e8_69b9_11ea_9b40_c4b301d2d9ddrow6_col1\" class=\"data row6 col1\" >$3.60</td>\n",
       "                        <td id=\"T_7c8fb0e8_69b9_11ea_9b40_c4b301d2d9ddrow6_col2\" class=\"data row6 col2\" >$147.67</td>\n",
       "                        <td id=\"T_7c8fb0e8_69b9_11ea_9b40_c4b301d2d9ddrow6_col3\" class=\"data row6 col3\" >$4.76</td>\n",
       "            </tr>\n",
       "            <tr>\n",
       "                        <th id=\"T_7c8fb0e8_69b9_11ea_9b40_c4b301d2d9ddlevel0_row7\" class=\"row_heading level0 row7\" >40+</th>\n",
       "                        <td id=\"T_7c8fb0e8_69b9_11ea_9b40_c4b301d2d9ddrow7_col0\" class=\"data row7 col0\" >13</td>\n",
       "                        <td id=\"T_7c8fb0e8_69b9_11ea_9b40_c4b301d2d9ddrow7_col1\" class=\"data row7 col1\" >$2.94</td>\n",
       "                        <td id=\"T_7c8fb0e8_69b9_11ea_9b40_c4b301d2d9ddrow7_col2\" class=\"data row7 col2\" >$38.24</td>\n",
       "                        <td id=\"T_7c8fb0e8_69b9_11ea_9b40_c4b301d2d9ddrow7_col3\" class=\"data row7 col3\" >$3.19</td>\n",
       "            </tr>\n",
       "    </tbody></table>"
      ],
      "text/plain": [
       "<pandas.io.formats.style.Styler at 0x11e4e0bd0>"
      ]
     },
     "execution_count": 249,
     "metadata": {},
     "output_type": "execute_result"
    }
   ],
   "source": [
    "purchase_count_age = age_grouped[\"Purchase ID\"].count()\n",
    "average_price_age = age_grouped[\"Price\"].mean()\n",
    "total_price_age = age_grouped[\"Price\"].sum()\n",
    "average_total_price_age = total_price_age / total_count_age\n",
    "\n",
    "purchase_age_df = pd.DataFrame({\"Purchase Count\": purchase_count_age, \n",
    "                                \"Average Purchase Price\": average_price_age,\n",
    "                                \"Total Purchase Value\": total_price_age,\n",
    "                                \"Avg Total Purchase per Person\": average_total_price_age})\n",
    "\n",
    "purchase_age_df.style.format({\"Average Purchase Price\": \"${:.2f}\",\n",
    "                              \"Total Purchase Value\": \"${:.2f}\",\n",
    "                              \"Avg Total Purchase per Person\": \"${:.2f}\"\n",
    "                             })"
   ]
  },
  {
   "cell_type": "markdown",
   "metadata": {},
   "source": [
    "## Top Spenders"
   ]
  },
  {
   "cell_type": "markdown",
   "metadata": {},
   "source": [
    "* Run basic calculations to obtain the results in the table below\n",
    "\n",
    "\n",
    "* Create a summary data frame to hold the results\n",
    "\n",
    "\n",
    "* Sort the total purchase value column in descending order\n",
    "\n",
    "\n",
    "* Optional: give the displayed data cleaner formatting\n",
    "\n",
    "\n",
    "* Display a preview of the summary data frame\n",
    "\n"
   ]
  },
  {
   "cell_type": "code",
   "execution_count": 273,
   "metadata": {},
   "outputs": [
    {
     "data": {
      "text/html": [
       "<style  type=\"text/css\" >\n",
       "</style><table id=\"T_aea2ebea_69c3_11ea_9b40_c4b301d2d9dd\" ><thead>    <tr>        <th class=\"blank level0\" ></th>        <th class=\"col_heading level0 col0\" >Purchase Count</th>        <th class=\"col_heading level0 col1\" >Average Purchase Price</th>        <th class=\"col_heading level0 col2\" >Total Purchase Value</th>    </tr>    <tr>        <th class=\"index_name level0\" >SN</th>        <th class=\"blank\" ></th>        <th class=\"blank\" ></th>        <th class=\"blank\" ></th>    </tr></thead><tbody>\n",
       "                <tr>\n",
       "                        <th id=\"T_aea2ebea_69c3_11ea_9b40_c4b301d2d9ddlevel0_row0\" class=\"row_heading level0 row0\" >Lisosia93</th>\n",
       "                        <td id=\"T_aea2ebea_69c3_11ea_9b40_c4b301d2d9ddrow0_col0\" class=\"data row0 col0\" >5</td>\n",
       "                        <td id=\"T_aea2ebea_69c3_11ea_9b40_c4b301d2d9ddrow0_col1\" class=\"data row0 col1\" >$3.79</td>\n",
       "                        <td id=\"T_aea2ebea_69c3_11ea_9b40_c4b301d2d9ddrow0_col2\" class=\"data row0 col2\" >$18.96</td>\n",
       "            </tr>\n",
       "            <tr>\n",
       "                        <th id=\"T_aea2ebea_69c3_11ea_9b40_c4b301d2d9ddlevel0_row1\" class=\"row_heading level0 row1\" >Idastidru52</th>\n",
       "                        <td id=\"T_aea2ebea_69c3_11ea_9b40_c4b301d2d9ddrow1_col0\" class=\"data row1 col0\" >4</td>\n",
       "                        <td id=\"T_aea2ebea_69c3_11ea_9b40_c4b301d2d9ddrow1_col1\" class=\"data row1 col1\" >$3.86</td>\n",
       "                        <td id=\"T_aea2ebea_69c3_11ea_9b40_c4b301d2d9ddrow1_col2\" class=\"data row1 col2\" >$15.45</td>\n",
       "            </tr>\n",
       "            <tr>\n",
       "                        <th id=\"T_aea2ebea_69c3_11ea_9b40_c4b301d2d9ddlevel0_row2\" class=\"row_heading level0 row2\" >Chamjask73</th>\n",
       "                        <td id=\"T_aea2ebea_69c3_11ea_9b40_c4b301d2d9ddrow2_col0\" class=\"data row2 col0\" >3</td>\n",
       "                        <td id=\"T_aea2ebea_69c3_11ea_9b40_c4b301d2d9ddrow2_col1\" class=\"data row2 col1\" >$4.61</td>\n",
       "                        <td id=\"T_aea2ebea_69c3_11ea_9b40_c4b301d2d9ddrow2_col2\" class=\"data row2 col2\" >$13.83</td>\n",
       "            </tr>\n",
       "            <tr>\n",
       "                        <th id=\"T_aea2ebea_69c3_11ea_9b40_c4b301d2d9ddlevel0_row3\" class=\"row_heading level0 row3\" >Iral74</th>\n",
       "                        <td id=\"T_aea2ebea_69c3_11ea_9b40_c4b301d2d9ddrow3_col0\" class=\"data row3 col0\" >4</td>\n",
       "                        <td id=\"T_aea2ebea_69c3_11ea_9b40_c4b301d2d9ddrow3_col1\" class=\"data row3 col1\" >$3.40</td>\n",
       "                        <td id=\"T_aea2ebea_69c3_11ea_9b40_c4b301d2d9ddrow3_col2\" class=\"data row3 col2\" >$13.62</td>\n",
       "            </tr>\n",
       "            <tr>\n",
       "                        <th id=\"T_aea2ebea_69c3_11ea_9b40_c4b301d2d9ddlevel0_row4\" class=\"row_heading level0 row4\" >Iskadarya95</th>\n",
       "                        <td id=\"T_aea2ebea_69c3_11ea_9b40_c4b301d2d9ddrow4_col0\" class=\"data row4 col0\" >3</td>\n",
       "                        <td id=\"T_aea2ebea_69c3_11ea_9b40_c4b301d2d9ddrow4_col1\" class=\"data row4 col1\" >$4.37</td>\n",
       "                        <td id=\"T_aea2ebea_69c3_11ea_9b40_c4b301d2d9ddrow4_col2\" class=\"data row4 col2\" >$13.10</td>\n",
       "            </tr>\n",
       "    </tbody></table>"
      ],
      "text/plain": [
       "<pandas.io.formats.style.Styler at 0x11e665150>"
      ]
     },
     "execution_count": 273,
     "metadata": {},
     "output_type": "execute_result"
    }
   ],
   "source": [
    "spender_stats = purchase_data.groupby(\"SN\")\n",
    "purchase_count_spender = spender_stats[\"Purchase ID\"].count()\n",
    "average_price_spender = spender_stats[\"Price\"].mean()\n",
    "total_purchase_spender = spender_stats[\"Price\"].sum()\n",
    "\n",
    "top_spenders_df = pd.DataFrame({\"Purchase Count\": purchase_count_spender,\n",
    "                                \"Average Purchase Price\": average_price_spender,\n",
    "                                \"Total Purchase Value\": total_purchase_spender})\n",
    "\n",
    "top_spenders_formatted = top_spenders_df.sort_values([\"Total Purchase Value\"], ascending=False).head()\n",
    "\n",
    "top_spenders_formatted.style.format({\"Average Purchase Price\": \"${:.2f}\",\n",
    "                              \"Total Purchase Value\": \"${:.2f}\"})"
   ]
  },
  {
   "cell_type": "markdown",
   "metadata": {},
   "source": [
    "## Most Popular Items"
   ]
  },
  {
   "cell_type": "markdown",
   "metadata": {},
   "source": [
    "* Retrieve the Item ID, Item Name, and Item Price columns\n",
    "\n",
    "\n",
    "* Group by Item ID and Item Name. Perform calculations to obtain purchase count, item price, and total purchase value\n",
    "\n",
    "\n",
    "* Create a summary data frame to hold the results\n",
    "\n",
    "\n",
    "* Sort the purchase count column in descending order\n",
    "\n",
    "\n",
    "* Optional: give the displayed data cleaner formatting\n",
    "\n",
    "\n",
    "* Display a preview of the summary data frame\n",
    "\n"
   ]
  },
  {
   "cell_type": "code",
   "execution_count": 291,
   "metadata": {},
   "outputs": [
    {
     "data": {
      "text/html": [
       "<style  type=\"text/css\" >\n",
       "</style><table id=\"T_0ddb518a_69c7_11ea_9b40_c4b301d2d9dd\" ><thead>    <tr>        <th class=\"blank\" ></th>        <th class=\"blank level0\" ></th>        <th class=\"col_heading level0 col0\" >Purchase Count</th>        <th class=\"col_heading level0 col1\" >Item Price</th>        <th class=\"col_heading level0 col2\" >Total Purchase Value</th>    </tr>    <tr>        <th class=\"index_name level0\" >Item ID</th>        <th class=\"index_name level1\" >Item Name</th>        <th class=\"blank\" ></th>        <th class=\"blank\" ></th>        <th class=\"blank\" ></th>    </tr></thead><tbody>\n",
       "                <tr>\n",
       "                        <th id=\"T_0ddb518a_69c7_11ea_9b40_c4b301d2d9ddlevel0_row0\" class=\"row_heading level0 row0\" >178</th>\n",
       "                        <th id=\"T_0ddb518a_69c7_11ea_9b40_c4b301d2d9ddlevel1_row0\" class=\"row_heading level1 row0\" >Oathbreaker, Last Hope of the Breaking Storm</th>\n",
       "                        <td id=\"T_0ddb518a_69c7_11ea_9b40_c4b301d2d9ddrow0_col0\" class=\"data row0 col0\" >12</td>\n",
       "                        <td id=\"T_0ddb518a_69c7_11ea_9b40_c4b301d2d9ddrow0_col1\" class=\"data row0 col1\" >$4.23</td>\n",
       "                        <td id=\"T_0ddb518a_69c7_11ea_9b40_c4b301d2d9ddrow0_col2\" class=\"data row0 col2\" >$50.76</td>\n",
       "            </tr>\n",
       "            <tr>\n",
       "                        <th id=\"T_0ddb518a_69c7_11ea_9b40_c4b301d2d9ddlevel0_row1\" class=\"row_heading level0 row1\" >145</th>\n",
       "                        <th id=\"T_0ddb518a_69c7_11ea_9b40_c4b301d2d9ddlevel1_row1\" class=\"row_heading level1 row1\" >Fiery Glass Crusader</th>\n",
       "                        <td id=\"T_0ddb518a_69c7_11ea_9b40_c4b301d2d9ddrow1_col0\" class=\"data row1 col0\" >9</td>\n",
       "                        <td id=\"T_0ddb518a_69c7_11ea_9b40_c4b301d2d9ddrow1_col1\" class=\"data row1 col1\" >$4.58</td>\n",
       "                        <td id=\"T_0ddb518a_69c7_11ea_9b40_c4b301d2d9ddrow1_col2\" class=\"data row1 col2\" >$41.22</td>\n",
       "            </tr>\n",
       "            <tr>\n",
       "                        <th id=\"T_0ddb518a_69c7_11ea_9b40_c4b301d2d9ddlevel0_row2\" class=\"row_heading level0 row2\" >108</th>\n",
       "                        <th id=\"T_0ddb518a_69c7_11ea_9b40_c4b301d2d9ddlevel1_row2\" class=\"row_heading level1 row2\" >Extraction, Quickblade Of Trembling Hands</th>\n",
       "                        <td id=\"T_0ddb518a_69c7_11ea_9b40_c4b301d2d9ddrow2_col0\" class=\"data row2 col0\" >9</td>\n",
       "                        <td id=\"T_0ddb518a_69c7_11ea_9b40_c4b301d2d9ddrow2_col1\" class=\"data row2 col1\" >$3.53</td>\n",
       "                        <td id=\"T_0ddb518a_69c7_11ea_9b40_c4b301d2d9ddrow2_col2\" class=\"data row2 col2\" >$31.77</td>\n",
       "            </tr>\n",
       "            <tr>\n",
       "                        <th id=\"T_0ddb518a_69c7_11ea_9b40_c4b301d2d9ddlevel0_row3\" class=\"row_heading level0 row3\" >82</th>\n",
       "                        <th id=\"T_0ddb518a_69c7_11ea_9b40_c4b301d2d9ddlevel1_row3\" class=\"row_heading level1 row3\" >Nirvana</th>\n",
       "                        <td id=\"T_0ddb518a_69c7_11ea_9b40_c4b301d2d9ddrow3_col0\" class=\"data row3 col0\" >9</td>\n",
       "                        <td id=\"T_0ddb518a_69c7_11ea_9b40_c4b301d2d9ddrow3_col1\" class=\"data row3 col1\" >$4.90</td>\n",
       "                        <td id=\"T_0ddb518a_69c7_11ea_9b40_c4b301d2d9ddrow3_col2\" class=\"data row3 col2\" >$44.10</td>\n",
       "            </tr>\n",
       "            <tr>\n",
       "                        <th id=\"T_0ddb518a_69c7_11ea_9b40_c4b301d2d9ddlevel0_row4\" class=\"row_heading level0 row4\" >19</th>\n",
       "                        <th id=\"T_0ddb518a_69c7_11ea_9b40_c4b301d2d9ddlevel1_row4\" class=\"row_heading level1 row4\" >Pursuit, Cudgel of Necromancy</th>\n",
       "                        <td id=\"T_0ddb518a_69c7_11ea_9b40_c4b301d2d9ddrow4_col0\" class=\"data row4 col0\" >8</td>\n",
       "                        <td id=\"T_0ddb518a_69c7_11ea_9b40_c4b301d2d9ddrow4_col1\" class=\"data row4 col1\" >$1.02</td>\n",
       "                        <td id=\"T_0ddb518a_69c7_11ea_9b40_c4b301d2d9ddrow4_col2\" class=\"data row4 col2\" >$8.16</td>\n",
       "            </tr>\n",
       "    </tbody></table>"
      ],
      "text/plain": [
       "<pandas.io.formats.style.Styler at 0x11e844710>"
      ]
     },
     "execution_count": 291,
     "metadata": {},
     "output_type": "execute_result"
    }
   ],
   "source": [
    "items = purchase_data[[\"Item ID\", \"Item Name\", \"Price\"]]\n",
    "item_stats = items.groupby([\"Item ID\", \"Item Name\"])\n",
    "item_counter = item_stats[\"Price\"].count()\n",
    "total_price_item = item_stats[\"Price\"].sum()\n",
    "item_ind_price = total_price_item / item_counter\n",
    "\n",
    "item_stats_df = pd.DataFrame({\"Purchase Count\": item_counter,\n",
    "                              \"Item Price\": item_ind_price,\n",
    "                              \"Total Purchase Value\": total_price_item})\n",
    "\n",
    "formatted_item_stats_df = item_stats_df.sort_values([\"Purchase Count\"], ascending= False).head()\n",
    "\n",
    "formatted_item_stats_df.style.format({\"Item Price\":\"${:,.2f}\",\n",
    "                                \"Total Purchase Value\":\"${:,.2f}\"})"
   ]
  },
  {
   "cell_type": "markdown",
   "metadata": {},
   "source": [
    "## Most Profitable Items"
   ]
  },
  {
   "cell_type": "markdown",
   "metadata": {},
   "source": [
    "* Sort the above table by total purchase value in descending order\n",
    "\n",
    "\n",
    "* Optional: give the displayed data cleaner formatting\n",
    "\n",
    "\n",
    "* Display a preview of the data frame\n",
    "\n"
   ]
  },
  {
   "cell_type": "code",
   "execution_count": 293,
   "metadata": {
    "scrolled": true
   },
   "outputs": [
    {
     "data": {
      "text/html": [
       "<style  type=\"text/css\" >\n",
       "</style><table id=\"T_23c8065a_69c7_11ea_9b40_c4b301d2d9dd\" ><thead>    <tr>        <th class=\"blank\" ></th>        <th class=\"blank level0\" ></th>        <th class=\"col_heading level0 col0\" >Purchase Count</th>        <th class=\"col_heading level0 col1\" >Item Price</th>        <th class=\"col_heading level0 col2\" >Total Purchase Value</th>    </tr>    <tr>        <th class=\"index_name level0\" >Item ID</th>        <th class=\"index_name level1\" >Item Name</th>        <th class=\"blank\" ></th>        <th class=\"blank\" ></th>        <th class=\"blank\" ></th>    </tr></thead><tbody>\n",
       "                <tr>\n",
       "                        <th id=\"T_23c8065a_69c7_11ea_9b40_c4b301d2d9ddlevel0_row0\" class=\"row_heading level0 row0\" >178</th>\n",
       "                        <th id=\"T_23c8065a_69c7_11ea_9b40_c4b301d2d9ddlevel1_row0\" class=\"row_heading level1 row0\" >Oathbreaker, Last Hope of the Breaking Storm</th>\n",
       "                        <td id=\"T_23c8065a_69c7_11ea_9b40_c4b301d2d9ddrow0_col0\" class=\"data row0 col0\" >12</td>\n",
       "                        <td id=\"T_23c8065a_69c7_11ea_9b40_c4b301d2d9ddrow0_col1\" class=\"data row0 col1\" >$4.23</td>\n",
       "                        <td id=\"T_23c8065a_69c7_11ea_9b40_c4b301d2d9ddrow0_col2\" class=\"data row0 col2\" >$50.76</td>\n",
       "            </tr>\n",
       "            <tr>\n",
       "                        <th id=\"T_23c8065a_69c7_11ea_9b40_c4b301d2d9ddlevel0_row1\" class=\"row_heading level0 row1\" >82</th>\n",
       "                        <th id=\"T_23c8065a_69c7_11ea_9b40_c4b301d2d9ddlevel1_row1\" class=\"row_heading level1 row1\" >Nirvana</th>\n",
       "                        <td id=\"T_23c8065a_69c7_11ea_9b40_c4b301d2d9ddrow1_col0\" class=\"data row1 col0\" >9</td>\n",
       "                        <td id=\"T_23c8065a_69c7_11ea_9b40_c4b301d2d9ddrow1_col1\" class=\"data row1 col1\" >$4.90</td>\n",
       "                        <td id=\"T_23c8065a_69c7_11ea_9b40_c4b301d2d9ddrow1_col2\" class=\"data row1 col2\" >$44.10</td>\n",
       "            </tr>\n",
       "            <tr>\n",
       "                        <th id=\"T_23c8065a_69c7_11ea_9b40_c4b301d2d9ddlevel0_row2\" class=\"row_heading level0 row2\" >145</th>\n",
       "                        <th id=\"T_23c8065a_69c7_11ea_9b40_c4b301d2d9ddlevel1_row2\" class=\"row_heading level1 row2\" >Fiery Glass Crusader</th>\n",
       "                        <td id=\"T_23c8065a_69c7_11ea_9b40_c4b301d2d9ddrow2_col0\" class=\"data row2 col0\" >9</td>\n",
       "                        <td id=\"T_23c8065a_69c7_11ea_9b40_c4b301d2d9ddrow2_col1\" class=\"data row2 col1\" >$4.58</td>\n",
       "                        <td id=\"T_23c8065a_69c7_11ea_9b40_c4b301d2d9ddrow2_col2\" class=\"data row2 col2\" >$41.22</td>\n",
       "            </tr>\n",
       "            <tr>\n",
       "                        <th id=\"T_23c8065a_69c7_11ea_9b40_c4b301d2d9ddlevel0_row3\" class=\"row_heading level0 row3\" >92</th>\n",
       "                        <th id=\"T_23c8065a_69c7_11ea_9b40_c4b301d2d9ddlevel1_row3\" class=\"row_heading level1 row3\" >Final Critic</th>\n",
       "                        <td id=\"T_23c8065a_69c7_11ea_9b40_c4b301d2d9ddrow3_col0\" class=\"data row3 col0\" >8</td>\n",
       "                        <td id=\"T_23c8065a_69c7_11ea_9b40_c4b301d2d9ddrow3_col1\" class=\"data row3 col1\" >$4.88</td>\n",
       "                        <td id=\"T_23c8065a_69c7_11ea_9b40_c4b301d2d9ddrow3_col2\" class=\"data row3 col2\" >$39.04</td>\n",
       "            </tr>\n",
       "            <tr>\n",
       "                        <th id=\"T_23c8065a_69c7_11ea_9b40_c4b301d2d9ddlevel0_row4\" class=\"row_heading level0 row4\" >103</th>\n",
       "                        <th id=\"T_23c8065a_69c7_11ea_9b40_c4b301d2d9ddlevel1_row4\" class=\"row_heading level1 row4\" >Singed Scalpel</th>\n",
       "                        <td id=\"T_23c8065a_69c7_11ea_9b40_c4b301d2d9ddrow4_col0\" class=\"data row4 col0\" >8</td>\n",
       "                        <td id=\"T_23c8065a_69c7_11ea_9b40_c4b301d2d9ddrow4_col1\" class=\"data row4 col1\" >$4.35</td>\n",
       "                        <td id=\"T_23c8065a_69c7_11ea_9b40_c4b301d2d9ddrow4_col2\" class=\"data row4 col2\" >$34.80</td>\n",
       "            </tr>\n",
       "    </tbody></table>"
      ],
      "text/plain": [
       "<pandas.io.formats.style.Styler at 0x11e7da790>"
      ]
     },
     "execution_count": 293,
     "metadata": {},
     "output_type": "execute_result"
    }
   ],
   "source": [
    "most_profitable_df = item_stats_df.sort_values([\"Total Purchase Value\"], ascending= False).head()\n",
    "most_profitable_df.style.format({\"Item Price\":\"${:,.2f}\",\n",
    "                                \"Total Purchase Value\":\"${:,.2f}\"})"
   ]
  }
 ],
 "metadata": {
  "anaconda-cloud": {},
  "kernel_info": {
   "name": "python3"
  },
  "kernelspec": {
   "display_name": "Python 3",
   "language": "python",
   "name": "python3"
  },
  "language_info": {
   "codemirror_mode": {
    "name": "ipython",
    "version": 3
   },
   "file_extension": ".py",
   "mimetype": "text/x-python",
   "name": "python",
   "nbconvert_exporter": "python",
   "pygments_lexer": "ipython3",
   "version": "3.7.4"
  },
  "latex_envs": {
   "LaTeX_envs_menu_present": true,
   "autoclose": false,
   "autocomplete": true,
   "bibliofile": "biblio.bib",
   "cite_by": "apalike",
   "current_citInitial": 1,
   "eqLabelWithNumbers": true,
   "eqNumInitial": 1,
   "hotkeys": {
    "equation": "Ctrl-E",
    "itemize": "Ctrl-I"
   },
   "labels_anchors": false,
   "latex_user_defs": false,
   "report_style_numbering": false,
   "user_envs_cfg": false
  },
  "nteract": {
   "version": "0.2.0"
  }
 },
 "nbformat": 4,
 "nbformat_minor": 2
}
